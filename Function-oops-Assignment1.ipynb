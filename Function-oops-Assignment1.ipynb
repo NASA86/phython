{
 "cells": [
  {
   "cell_type": "code",
   "execution_count": 1,
   "id": "2fd609f5-aa2f-4d45-a458-93830b35b828",
   "metadata": {},
   "outputs": [],
   "source": [
    "def Subfields():\n",
    "        list=['Machine Learning','Neural Networks','Vision','Robotics','Speech Processing','Natural Language Processing']\n",
    "        print(\"Sub-fields in AI are:\")\n",
    "        for item in list:\n",
    "           print(item)\n",
    "    \n"
   ]
  },
  {
   "cell_type": "code",
   "execution_count": 2,
   "id": "629fbddf-8556-48e7-9afc-11c4fa194b1c",
   "metadata": {},
   "outputs": [
    {
     "name": "stdout",
     "output_type": "stream",
     "text": [
      "Sub-fields in AI are:\n",
      "Machine Learning\n",
      "Neural Networks\n",
      "Vision\n",
      "Robotics\n",
      "Speech Processing\n",
      "Natural Language Processing\n"
     ]
    }
   ],
   "source": [
    "Subfields()"
   ]
  },
  {
   "cell_type": "code",
   "execution_count": 15,
   "id": "7a2a3965-a10c-45b7-a0d1-f2061f87b4db",
   "metadata": {},
   "outputs": [],
   "source": [
    "def OddEven():\n",
    "    num=(int(input(\"Enter a number:\")))\n",
    "    if((num%2)==0):\n",
    "        print(num,\"is Even number\")\n",
    "    else:\n",
    "        print(num,\"is odd number\")\n",
    "    "
   ]
  },
  {
   "cell_type": "code",
   "execution_count": 16,
   "id": "414333c6-6a72-4161-9e48-bb8538e2dba7",
   "metadata": {},
   "outputs": [
    {
     "name": "stdin",
     "output_type": "stream",
     "text": [
      "Enter a number: 52452\n"
     ]
    },
    {
     "name": "stdout",
     "output_type": "stream",
     "text": [
      "52452 is Even number\n"
     ]
    }
   ],
   "source": [
    "OddEven()"
   ]
  },
  {
   "cell_type": "code",
   "execution_count": 17,
   "id": "0dc59703-4f09-488c-ba71-696468b0520b",
   "metadata": {},
   "outputs": [],
   "source": [
    "# Create a function that tells elegibility of marriage for male and female according to their age limit like 21 for male and 18 for female\n",
    "def Elegible():\n",
    "    gender=input(\"Your gender:\")\n",
    "    age=int(input(\"Your age:\"))\n",
    "    if((gender==\"Male\") and (age>=21)):\n",
    "         print(\"ELIGBLE\")\n",
    "    elif((gender==\"Female\") and (age>18)):\n",
    "          print(\"ELIGBLE\")\n",
    "    else:\n",
    "        print(\"NOT ELIGBLE\")\n",
    "    "
   ]
  },
  {
   "cell_type": "code",
   "execution_count": 18,
   "id": "b36f1019-987a-48fa-9779-5686d9eb016a",
   "metadata": {},
   "outputs": [
    {
     "name": "stdin",
     "output_type": "stream",
     "text": [
      "Your gender: Male\n",
      "Your age: 22\n"
     ]
    },
    {
     "name": "stdout",
     "output_type": "stream",
     "text": [
      "ELIGBLE\n"
     ]
    }
   ],
   "source": [
    "Elegible()"
   ]
  },
  {
   "cell_type": "code",
   "execution_count": 20,
   "id": "26c0019f-b954-44c0-aa25-6f30bddbf773",
   "metadata": {},
   "outputs": [],
   "source": [
    "# calculate the percentage of your 10th mark\n",
    "def percentage():\n",
    "    subject1=int(input(\"Subject1=\"))\n",
    "    subject2=int(input(\"Subject2=\"))\n",
    "    subject3=int(input(\"Subject3=\"))\n",
    "    subject4=int(input(\"Subject4=\"))\n",
    "    subject5=int(input(\"Subject5=\"))\n",
    "    total=subject1+subject2+subject3+subject4+subject5\n",
    "    print(\"Total:\",total)\n",
    "    precentage=float((total/500))*100\n",
    "    print(\"Precentage:\",precentage)\n"
   ]
  },
  {
   "cell_type": "code",
   "execution_count": 21,
   "id": "65606364-eb72-48da-95a7-a971ba7f8bac",
   "metadata": {},
   "outputs": [
    {
     "name": "stdin",
     "output_type": "stream",
     "text": [
      "Subject1= 98\n",
      "Subject2= 87\n",
      "Subject3= 95\n",
      "Subject4= 95\n",
      "Subject5= 93\n"
     ]
    },
    {
     "name": "stdout",
     "output_type": "stream",
     "text": [
      "Total: 468\n",
      "Precentage: 93.60000000000001\n"
     ]
    }
   ],
   "source": [
    "percentage()"
   ]
  },
  {
   "cell_type": "code",
   "execution_count": 22,
   "id": "50c5a4bc-ea87-4275-8cd4-ada5ac22d2a8",
   "metadata": {},
   "outputs": [],
   "source": [
    "#print area and perimeter of triangle using  functions\n",
    "def triangle():\n",
    "    height=int(input(\"Height:\"))\n",
    "    breadth=int(input(\"Breadth\"))\n",
    "    print(\"Area formula: (Height*Breadth)/2\")\n",
    "    triangle=(height*breadth)/2\n",
    "    print(\"Area of Triangle:\",triangle)\n",
    "    height1=int(input(\"Height1:\"))\n",
    "    height2=int(input(\"Height2:\"))\n",
    "    breadth1=int(input(\"Breadth:\"))\n",
    "    print(\"Perimeter formula: Height1+Height2+Breadth\")\n",
    "    formula=height1+height2+breadth1\n",
    "    print(\"Perimeter formula:\",formula) "
   ]
  },
  {
   "cell_type": "code",
   "execution_count": 23,
   "id": "b0b8b14c-67fd-4688-8cc3-a31d4e4bae1b",
   "metadata": {},
   "outputs": [
    {
     "name": "stdin",
     "output_type": "stream",
     "text": [
      "Height: 32\n",
      "Breadth 34\n"
     ]
    },
    {
     "name": "stdout",
     "output_type": "stream",
     "text": [
      "Area formula: (Height*Breadth)/2\n",
      "Area of Triangle: 544.0\n"
     ]
    },
    {
     "name": "stdin",
     "output_type": "stream",
     "text": [
      "Height1: 2\n",
      "Height2: 4\n",
      "Breadth: 4\n"
     ]
    },
    {
     "name": "stdout",
     "output_type": "stream",
     "text": [
      "Perimeter formula: Height1+Height2+Breadth\n",
      "Perimeter formula: 10\n"
     ]
    }
   ],
   "source": [
    "triangle()"
   ]
  },
  {
   "cell_type": "code",
   "execution_count": null,
   "id": "800d1089-df06-4980-9fa3-6b884e918d9e",
   "metadata": {},
   "outputs": [],
   "source": []
  }
 ],
 "metadata": {
  "kernelspec": {
   "display_name": "Python 3 (ipykernel)",
   "language": "python",
   "name": "python3"
  },
  "language_info": {
   "codemirror_mode": {
    "name": "ipython",
    "version": 3
   },
   "file_extension": ".py",
   "mimetype": "text/x-python",
   "name": "python",
   "nbconvert_exporter": "python",
   "pygments_lexer": "ipython3",
   "version": "3.12.7"
  }
 },
 "nbformat": 4,
 "nbformat_minor": 5
}
