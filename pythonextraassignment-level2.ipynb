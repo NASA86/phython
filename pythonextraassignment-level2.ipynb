{
 "cells": [
  {
   "cell_type": "code",
   "execution_count": 1,
   "id": "9a2c419c-8d37-4136-ba3e-75a50781c259",
   "metadata": {},
   "outputs": [
    {
     "name": "stdout",
     "output_type": "stream",
     "text": [
      "0\n",
      "1\n",
      "2\n",
      "3\n",
      "4\n",
      "5\n",
      "6\n",
      "7\n",
      "8\n",
      "9\n",
      "10\n",
      "11\n",
      "12\n",
      "13\n",
      "14\n",
      "15\n",
      "16\n",
      "17\n",
      "18\n",
      "19\n"
     ]
    }
   ],
   "source": [
    "for num in range(0,20):\n",
    "    print(num)"
   ]
  },
  {
   "cell_type": "code",
   "execution_count": 2,
   "id": "430e2340-b127-4ca8-997f-726c42794908",
   "metadata": {},
   "outputs": [
    {
     "name": "stdout",
     "output_type": "stream",
     "text": [
      "10 11 12 13 14 15 16 17 18 19 "
     ]
    }
   ],
   "source": [
    "for num in range(10,20):\n",
    "    print(num,end=\" \")"
   ]
  },
  {
   "cell_type": "code",
   "execution_count": 3,
   "id": "e3d21859-a83e-44c0-8f48-e72b95042222",
   "metadata": {},
   "outputs": [
    {
     "name": "stdout",
     "output_type": "stream",
     "text": [
      "Number of item in the List2: 7\n"
     ]
    }
   ],
   "source": [
    "list2=[10, 20, 14, 55, 43, 87, 76]\n",
    "print(\"Number of item in the List2:\",len(list2))"
   ]
  },
  {
   "cell_type": "code",
   "execution_count": 4,
   "id": "be693b12-d52d-49e9-8a3e-f1d23fa31045",
   "metadata": {},
   "outputs": [
    {
     "name": "stdout",
     "output_type": "stream",
     "text": [
      "Artificial Intelligence\n",
      "A\n",
      "r\n",
      "t\n",
      "i\n",
      "f\n",
      "i\n",
      "c\n",
      "i\n",
      "a\n",
      "l\n",
      " \n",
      "I\n",
      "n\n",
      "t\n",
      "e\n",
      "l\n",
      "l\n",
      "i\n",
      "g\n",
      "e\n",
      "n\n",
      "c\n",
      "e\n"
     ]
    }
   ],
   "source": [
    "#Horizontal,vertical string print without space\n",
    "string=\"Artificial Intelligence\"\n",
    "print(string)\n",
    "for i in string :\n",
    "    tst_str= i.replace(\"\\n\",\"\")\n",
    "    print(tst_str)"
   ]
  },
  {
   "cell_type": "code",
   "execution_count": 4,
   "id": "234796fa-8061-4753-ada3-3a9ee331073c",
   "metadata": {},
   "outputs": [
    {
     "name": "stdout",
     "output_type": "stream",
     "text": [
      "Nasarali\n",
      "40\n",
      "IT\n"
     ]
    }
   ],
   "source": [
    "#list your name and profession\n",
    "name=['Nasarali',40,'IT']\n",
    "for i in name:\n",
    "    print(i)"
   ]
  },
  {
   "cell_type": "code",
   "execution_count": 7,
   "id": "590a3a2b-e8b8-41ae-827b-3d99aa6098a7",
   "metadata": {},
   "outputs": [
    {
     "name": "stdout",
     "output_type": "stream",
     "text": [
      "(1, 'Welcome', 2, 'Hope')\n"
     ]
    }
   ],
   "source": [
    "#Tuple mixed datatype\n",
    "Tuple1=(1, 'Welcome', 2, 'Hope')\n",
    "print(Tuple1)"
   ]
  },
  {
   "cell_type": "code",
   "execution_count": 8,
   "id": "125d3559-2369-4678-ae8d-68e28f868fc4",
   "metadata": {},
   "outputs": [
    {
     "name": "stdout",
     "output_type": "stream",
     "text": [
      "((0, 1, 2, 3), ('python', 'HOPE'))\n"
     ]
    }
   ],
   "source": [
    "#Tuple mixed datatype\n",
    "Tuple1=(0, 1, 2, 3)\n",
    "Tuple2= ('python', 'HOPE')\n",
    "Tuple3=(Tuple1,Tuple2)\n",
    "print(Tuple3)"
   ]
  },
  {
   "cell_type": "code",
   "execution_count": 3,
   "id": "b2436afe-868d-44c6-bc3c-51c1063f86df",
   "metadata": {},
   "outputs": [
    {
     "name": "stdout",
     "output_type": "stream",
     "text": [
      "(20, 10, 16, 19, 25, 1, 276, 188)\n",
      "19 is odd\n",
      "25 is odd\n",
      "1 is odd\n"
     ]
    }
   ],
   "source": [
    "# print Odd Numbers in the list\n",
    "list1=(20,10,16,19,25,1,276,188)\n",
    "print(list1)\n",
    "for i in list1:\n",
    "    if((i%2)!=0):\n",
    "        print(i ,\"is odd\")"
   ]
  },
  {
   "cell_type": "code",
   "execution_count": 4,
   "id": "a2ce5a57-917a-406a-ba37-842b2829bb81",
   "metadata": {},
   "outputs": [
    {
     "name": "stdout",
     "output_type": "stream",
     "text": [
      "(20, 10, 16, 19, 25, 1, 276, 188)\n",
      "20 is Even\n",
      "10 is Even\n",
      "16 is Even\n",
      "276 is Even\n",
      "188 is Even\n"
     ]
    }
   ],
   "source": [
    "# print Even Numbers in the list\n",
    "list1=(20,10,16,19,25,1,276,188)\n",
    "print(list1)\n",
    "for i in list1:\n",
    "    if((i%2)==0):\n",
    "        print(i ,\"is Even\")"
   ]
  },
  {
   "cell_type": "code",
   "execution_count": null,
   "id": "f0196050-a2e8-4ce4-ad9f-9d44653aa76b",
   "metadata": {},
   "outputs": [],
   "source": []
  }
 ],
 "metadata": {
  "kernelspec": {
   "display_name": "Python 3 (ipykernel)",
   "language": "python",
   "name": "python3"
  },
  "language_info": {
   "codemirror_mode": {
    "name": "ipython",
    "version": 3
   },
   "file_extension": ".py",
   "mimetype": "text/x-python",
   "name": "python",
   "nbconvert_exporter": "python",
   "pygments_lexer": "ipython3",
   "version": "3.12.7"
  }
 },
 "nbformat": 4,
 "nbformat_minor": 5
}
